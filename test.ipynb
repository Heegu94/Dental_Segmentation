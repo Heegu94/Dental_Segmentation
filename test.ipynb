{
 "cells": [
  {
   "cell_type": "code",
   "execution_count": 1,
   "metadata": {},
   "outputs": [
    {
     "name": "stdout",
     "output_type": "stream",
     "text": [
      "/data1/Dental/MCS-CT 영상 데이터-19년7월15일-김정웅/CBCT-Mcs-19-7-1/완료/김춘구 1/Mx Mn\n",
      "/data1/Dental/MCS-CT 영상 데이터-19년7월15일-김정웅/CBCT-Mcs-19-7-1/완료/천언성 1/Mx Mn\n",
      "/data1/Dental/MCS-CT 영상 데이터-19년7월15일-김정웅/CBCT-Mcs-19-7-1/완료/권세환 1/Mx Mn\n",
      "/data1/Dental/MCS-CT 영상 데이터-19년7월15일-김정웅/CBCT-Mcs-19-7-1/완료/김은식 1/Mx Mn\n",
      "/data1/Dental/MCS-CT 영상 데이터-19년7월15일-김정웅/CBCT-Mcs-19-7-1/완료/정새롬 1/Mx Mn\n",
      "/data1/Dental/MCS-CT 영상 데이터-19년7월15일-김정웅/CBCT-Mcs-19-7-1/완료/이재원 1/Mx Mn\n",
      "/data1/Dental/MCS-CT 영상 데이터-19년7월15일-김정웅/CBCT-Mcs-19-7-1/완료/최수정 1/Mx Mn\n",
      "/data1/Dental/MCS-CT 영상 데이터-19년7월15일-김정웅/CBCT-Mcs-19-7-1/완료/최대린 1/Mx Mn\n",
      "/data1/Dental/MCS-CT 영상 데이터-19년7월15일-김정웅/CBCT-Mcs-19-7-1/완료/김태현 1/Mx Mn\n",
      "/data1/Dental/MCS-CT 영상 데이터-19년7월15일-김정웅/CBCT-Mcs-19-7-1/완료/양인용 1/Mx Mn\n",
      "/data1/Dental/MCS-CT 영상 데이터-19년7월15일-김정웅/CBCT-Mcs-19-7-1/완료/김영재 1/Mx Mn\n",
      "/data1/Dental/MCS-CT 영상 데이터-19년7월15일-김정웅/CBCT-Mcs-19-7-1/완료/김동현 1/Mx Mn\n",
      "/data1/Dental/MCS-CT 영상 데이터-19년7월15일-김정웅/CBCT-Mcs-19-7-1/완료/김현욱 1/Mx Mn\n",
      "/data1/Dental/MCS-CT 영상 데이터-19년7월15일-김정웅/CBCT-Mcs-19-7-1/완료/백미라 1/Mx Mn\n",
      "/data1/Dental/MCS-CT 영상 데이터-19년7월15일-김정웅/CBCT-Mcs-19-7-1/완료/천명호 1/Mx Mn\n",
      "/data1/Dental/MCS-CT 영상 데이터-19년7월15일-김정웅/CBCT-Mcs-19-7-1/완료/편소라 1/Mx Mn\n",
      "/data1/Dental/MCS-CT 영상 데이터-19년7월15일-김정웅/CBCT-Mcs-19-7-1/완료/변상원 1/Mx Mn\n",
      "/data1/Dental/MCS-CT 영상 데이터-19년7월15일-김정웅/CBCT-Mcs-19-7-1/완료/김희재 1/Mx Mn\n",
      "/data1/Dental/MCS-CT 영상 데이터-19년7월15일-김정웅/CBCT-Mcs-19-7-1/완료/이동은 1/Mx Mn\n",
      "/data1/Dental/MCS-CT 영상 데이터-19년7월15일-김정웅/CBCT-Mcs-19-7-1/완료/정나현 1/Mx Mn\n",
      "/data1/Dental/MCS-CT 영상 데이터-19년7월15일-김정웅/CBCT-Mcs-19-7-1/완료/강대훈 1/Mx Mn\n",
      "/data1/Dental/MCS-CT 영상 데이터-19년7월15일-김정웅/CBCT-Mcs-19-7-1/완료/최은비 1/Mx Mn\n",
      "/data1/Dental/MCS-CT 영상 데이터-19년7월15일-김정웅/CBCT-Mcs-19-7-1/완료/박지현 1/Mx Mn\n",
      "/data1/Dental/MCS-CT 영상 데이터-19년7월15일-김정웅/CBCT-Mcs-19-7-1/완료/유종훈 1/Mx Mn\n",
      "/data1/Dental/MCS-CT 영상 데이터-19년7월15일-김정웅/CBCT-Mcs-19-7-1/완료/오승세 1/Mx Mn\n",
      "/data1/Dental/MCS-CT 영상 데이터-19년7월15일-김정웅/CBCT-Mcs-19-7-1/완료/어애연 1/Mx Mn\n",
      "/data1/Dental/MCS-CT 영상 데이터-19년7월15일-김정웅/CBCT-Mcs-19-7-1/완료/박성훈 1/Mx Mn\n",
      "/data1/Dental/MCS-CT 영상 데이터-19년7월15일-김정웅/CBCT-Mcs-19-7-1/완료/이유진 1/Mx Mn\n",
      "/data1/Dental/MCS-CT 영상 데이터-19년7월15일-김정웅/CBCT-Mcs-19-7-1/완료/김재균 1/Mx Mn\n",
      "/data1/Dental/MCS-CT 영상 데이터-19년7월15일-김정웅/CBCT-Mcs-19-7-1/완료/박한민 1/Mx Mn\n",
      "/data1/Dental/MCS-CT 영상 데이터-19년7월15일-김정웅/CBCT-Mcs-19-7-1/완료/최은진 1/Mx Mn\n",
      "/data1/Dental/MCS-CT 영상 데이터-19년7월15일-김정웅/CBCT-Mcs-19-7-1/완료/이지현 1/Mx Mn\n",
      "/data1/Dental/MCS-CT 영상 데이터-19년7월15일-김정웅/CBCT-Mcs-19-7-1/완료/이남진 1/Mx Mn\n"
     ]
    }
   ],
   "source": [
    "import csv\n",
    "import os\n",
    "import numpy as np\n",
    "from utils import *\n",
    "\n",
    "# data_dict = ['file type', 'patient name', 'original slice', 'mxmn slice', 'mxmn shape', 'mxmn type']\n",
    "# data_csv = open(os.path.join('./data_preview/total.csv'), 'w', newline='', encoding='utf-8')\n",
    "# csv_writer = csv.writer(data_csv)\n",
    "# csv_writer.writerow(data_dict)\n",
    "\n",
    "root = '/data1/Dental/MCS-CT 영상 데이터-19년7월15일-김정웅/'\n",
    "root_dict = 'CBCT-Mcs-19-7-1/완료/'\n",
    "\n",
    "root_paths =os.path.join(root, root_dict)\n",
    "\n",
    "pat_list = os.listdir(root_paths)\n",
    "\n",
    "for pat in pat_list:\n",
    "    pat_paths = os.path.join(root_paths, pat)\n",
    "\n",
    "    ori_paths = os.path.join(pat_paths, 'original')\n",
    "    mxmn_paths = os.path.join(pat_paths, 'Mx Mn') \n",
    "    print(mxmn_paths)\n",
    "    ori_list = [os.path.join(ori_paths, i) for i in sorted(os.listdir(ori_paths))]\n",
    "    mxmn_list = [os.path.join(mxmn_paths, i) for i in sorted(os.listdir(mxmn_paths))]\n",
    "\n",
    "#         if num == 1 : f_type = 'CBCT-MCS'\n",
    "#         if num == 2 : f_type = 'COM-MCS'\n",
    "#         if num == 3 : f_type = 'MCS 모음'\n",
    "\n",
    "    if len(mxmn_list):\n",
    "        ori = load_3d_vol(ori_list, 'gray')\n",
    "        mm_ = load_3d_vol(mxmn_list, 'rgb')\n",
    "        mask = make_mask(mm_)\n",
    "#             csv_writer.writerow([f_type, pat, len(ori_list), len(mxmn_list), mm_.shape, mm_.dtype])"
   ]
  },
  {
   "cell_type": "code",
   "execution_count": 6,
   "metadata": {},
   "outputs": [
    {
     "name": "stdout",
     "output_type": "stream",
     "text": [
      "256 512 512 3\n"
     ]
    }
   ],
   "source": [
    "s, c, a, _ = mask.shape\n",
    "print(s, c, a, _)"
   ]
  },
  {
   "cell_type": "code",
   "execution_count": 38,
   "metadata": {},
   "outputs": [],
   "source": [
    "patch_size = 48\n",
    "x_list = []\n",
    "y_list = []\n",
    "for j in range(0, c-patch_size+1, patch_size//2):\n",
    "    for k in range(0, a-patch_size+1, patch_size//2):\n",
    "        tmp = mask[100, j:j+patch_size, k:k+patch_size][..., 0]\n",
    "        if tmp.shape != (patch_size, patch_size) : continue\n",
    "        val = tmp.sum()\n",
    "        if val/(patch_size**2)>0.5 : continue\n",
    "        x_list.append(ori[100, j:j+patch_size, k:k+patch_size])\n",
    "        y_list.append(mask[100, j:j+patch_size, k:k+patch_size])\n",
    "        "
   ]
  },
  {
   "cell_type": "code",
   "execution_count": 39,
   "metadata": {},
   "outputs": [
    {
     "name": "stdout",
     "output_type": "stream",
     "text": [
      "(1, 48, 48)\n",
      "(1, 48, 48, 3)\n"
     ]
    }
   ],
   "source": [
    "x = np.array(x_list)\n",
    "y = np.array(y_list)\n",
    "\n",
    "print(x.shape)\n",
    "print(y.shape)"
   ]
  },
  {
   "cell_type": "code",
   "execution_count": 26,
   "metadata": {},
   "outputs": [
    {
     "ename": "IndexError",
     "evalue": "index 85 is out of bounds for axis 0 with size 1",
     "output_type": "error",
     "traceback": [
      "\u001b[0;31m---------------------------------------------------------------------------\u001b[0m",
      "\u001b[0;31mIndexError\u001b[0m                                Traceback (most recent call last)",
      "\u001b[0;32m<ipython-input-26-7e1144731f48>\u001b[0m in \u001b[0;36m<module>\u001b[0;34m\u001b[0m\n\u001b[1;32m      4\u001b[0m \u001b[0mplt\u001b[0m\u001b[0;34m.\u001b[0m\u001b[0mfigure\u001b[0m\u001b[0;34m(\u001b[0m\u001b[0mfigsize\u001b[0m\u001b[0;34m=\u001b[0m\u001b[0;34m(\u001b[0m\u001b[0;36m9\u001b[0m\u001b[0;34m,\u001b[0m\u001b[0;36m9\u001b[0m\u001b[0;34m)\u001b[0m\u001b[0;34m)\u001b[0m\u001b[0;34m\u001b[0m\u001b[0;34m\u001b[0m\u001b[0m\n\u001b[1;32m      5\u001b[0m \u001b[0mplt\u001b[0m\u001b[0;34m.\u001b[0m\u001b[0msubplot\u001b[0m\u001b[0;34m(\u001b[0m\u001b[0;36m4\u001b[0m\u001b[0;34m,\u001b[0m\u001b[0;36m4\u001b[0m\u001b[0;34m,\u001b[0m\u001b[0;36m1\u001b[0m\u001b[0;34m)\u001b[0m\u001b[0;34m\u001b[0m\u001b[0;34m\u001b[0m\u001b[0m\n\u001b[0;32m----> 6\u001b[0;31m \u001b[0mplt\u001b[0m\u001b[0;34m.\u001b[0m\u001b[0mimshow\u001b[0m\u001b[0;34m(\u001b[0m\u001b[0mx\u001b[0m\u001b[0;34m[\u001b[0m\u001b[0midx\u001b[0m\u001b[0;34m-\u001b[0m\u001b[0;36m15\u001b[0m\u001b[0;34m,\u001b[0m \u001b[0;34m...\u001b[0m\u001b[0;34m]\u001b[0m\u001b[0;34m,\u001b[0m \u001b[0mcmap\u001b[0m\u001b[0;34m=\u001b[0m\u001b[0;34m'gray'\u001b[0m\u001b[0;34m)\u001b[0m\u001b[0;34m\u001b[0m\u001b[0;34m\u001b[0m\u001b[0m\n\u001b[0m\u001b[1;32m      7\u001b[0m \u001b[0mplt\u001b[0m\u001b[0;34m.\u001b[0m\u001b[0maxis\u001b[0m\u001b[0;34m(\u001b[0m\u001b[0;34m'off'\u001b[0m\u001b[0;34m)\u001b[0m\u001b[0;34m\u001b[0m\u001b[0;34m\u001b[0m\u001b[0m\n\u001b[1;32m      8\u001b[0m \u001b[0mplt\u001b[0m\u001b[0;34m.\u001b[0m\u001b[0msubplot\u001b[0m\u001b[0;34m(\u001b[0m\u001b[0;36m4\u001b[0m\u001b[0;34m,\u001b[0m\u001b[0;36m4\u001b[0m\u001b[0;34m,\u001b[0m\u001b[0;36m2\u001b[0m\u001b[0;34m)\u001b[0m\u001b[0;34m\u001b[0m\u001b[0;34m\u001b[0m\u001b[0m\n",
      "\u001b[0;31mIndexError\u001b[0m: index 85 is out of bounds for axis 0 with size 1"
     ]
    },
    {
     "data": {
      "image/png": "[encoded data removed]",
      "text/plain": [
       "<Figure size 648x648 with 1 Axes>"
      ]
     },
     "metadata": {
      "needs_background": "light"
     },
     "output_type": "display_data"
    }
   ],
   "source": [
    "import matplotlib.pyplot as plt\n",
    "\n",
    "idx = 100\n",
    "plt.figure(figsize=(9,9))\n",
    "plt.subplot(4,4,1)\n",
    "plt.imshow(x[idx-15, ...], cmap='gray')\n",
    "plt.axis('off')\n",
    "plt.subplot(4,4,2)\n",
    "plt.imshow(x[idx-14, ...], cmap='gray')\n",
    "plt.axis('off')\n",
    "plt.subplot(4,4,3)\n",
    "plt.imshow(x[idx-13, ...], cmap='gray')\n",
    "plt.axis('off')\n",
    "plt.subplot(4,4,4)\n",
    "plt.imshow(x[idx-12, ...], cmap='gray')\n",
    "plt.axis('off')\n",
    "plt.subplot(4,4,5)\n",
    "plt.imshow(x[idx+5, ...], cmap='gray')\n",
    "plt.axis('off')\n",
    "plt.subplot(4,4,6)\n",
    "plt.imshow(x[idx+6, ...], cmap='gray')\n",
    "plt.axis('off')\n",
    "plt.subplot(4,4,7)\n",
    "plt.imshow(x[idx+7, ...], cmap='gray')\n",
    "plt.axis('off')\n",
    "plt.subplot(4,4,8)\n",
    "plt.imshow(x[idx+8, ...], cmap='gray')\n",
    "plt.axis('off')\n",
    "plt.subplot(4,4,9)\n",
    "plt.imshow(x[idx+25, ...], cmap='gray')\n",
    "plt.axis('off')\n",
    "plt.subplot(4,4,10)\n",
    "plt.imshow(x[idx+26, ...], cmap='gray')\n",
    "plt.axis('off')\n",
    "plt.subplot(4,4,11)\n",
    "plt.imshow(x[idx+27, ...], cmap='gray')\n",
    "plt.axis('off')\n",
    "plt.subplot(4,4,12)\n",
    "plt.imshow(x[idx+28, ...], cmap='gray')\n",
    "plt.axis('off')\n",
    "plt.subplot(4,4,13)\n",
    "plt.imshow(x[idx+45, ...], cmap='gray')\n",
    "plt.axis('off')\n",
    "plt.subplot(4,4,14)\n",
    "plt.imshow(x[idx+46, ...], cmap='gray')\n",
    "plt.axis('off')\n",
    "plt.subplot(4,4,15)\n",
    "plt.imshow(x[idx+47, ...], cmap='gray')\n",
    "plt.axis('off')\n",
    "plt.subplot(4,4,16)\n",
    "plt.imshow(x[idx+48, ...], cmap='gray')\n",
    "plt.axis('off')\n",
    "plt.show()"
   ]
  },
  {
   "cell_type": "code",
   "execution_count": 46,
   "metadata": {},
   "outputs": [
    {
     "data": {
      "image/png": "[encoded data removed]",
      "text/plain": [
       "<Figure size 864x648 with 3 Axes>"
      ]
     },
     "metadata": {
      "needs_background": "light"
     },
     "output_type": "display_data"
    }
   ],
   "source": [
    "import matplotlib.pyplot as plt\n",
    "\n",
    "idx = 100\n",
    "plt.figure(figsize=(12,9))\n",
    "plt.subplot(131)\n",
    "plt.imshow(y[0, ...,0], cmap='gray')\n",
    "\n",
    "plt.subplot(132)\n",
    "plt.imshow(y[0, ...,1], cmap='gray')\n",
    "\n",
    "plt.subplot(133)\n",
    "plt.imshow(y[0, ...,2], cmap='gray')\n",
    "\n",
    "plt.show()"
   ]
  },
  {
   "cell_type": "code",
   "execution_count": 47,
   "metadata": {},
   "outputs": [
    {
     "data": {
      "text/plain": [
       "<matplotlib.image.AxesImage at 0x7fddc0339890>"
      ]
     },
     "execution_count": 47,
     "metadata": {},
     "output_type": "execute_result"
    },
    {
     "data": {
      "image/png": "[encoded data removed]",
      "text/plain": [
       "<Figure size 648x648 with 1 Axes>"
      ]
     },
     "metadata": {
      "needs_background": "light"
     },
     "output_type": "display_data"
    }
   ],
   "source": [
    "import matplotlib.pyplot as plt\n",
    "\n",
    "plt.figure(figsize=(9,9))\n",
    "plt.imshow(x[0, ...], cmap='gray')"
   ]
  },
  {
   "cell_type": "code",
   "execution_count": null,
   "metadata": {},
   "outputs": [],
   "source": []
  }
 ],
 "metadata": {
  "kernelspec": {
   "display_name": "Python 3",
   "language": "python",
   "name": "python3"
  },
  "language_info": {
   "codemirror_mode": {
    "name": "ipython",
    "version": 3
   },
   "file_extension": ".py",
   "mimetype": "text/x-python",
   "name": "python",
   "nbconvert_exporter": "python",
   "pygments_lexer": "ipython3",
   "version": "3.7.6"
  }
 },
 "nbformat": 4,
 "nbformat_minor": 4
}
