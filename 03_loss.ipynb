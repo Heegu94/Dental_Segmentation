{
 "cells": [
  {
   "cell_type": "code",
   "execution_count": 3,
   "metadata": {},
   "outputs": [],
   "source": [
    "import os, tqdm, cv2\n",
    "os.environ[\"CUDA_DEVICE_ORDER\"]=\"PCI_BUS_ID\"   \n",
    "os.environ[\"CUDA_VISIBLE_DEVICES\"]=\" \"\n",
    "\n",
    "import numpy as np\n",
    "import pandas as pd\n",
    "import tensorflow as tf"
   ]
  },
  {
   "cell_type": "code",
   "execution_count": 4,
   "metadata": {},
   "outputs": [],
   "source": [
    "def dice_np(y_true, y_pred):\n",
    "    union = np.sum(np.logical_or(y_true, y_pred), axis=(1, 2))\n",
    "    inter = np.sum(np.logical_and(y_true, y_pred), axis=(1, 2))\n",
    "    \n",
    "    return 2*inter/(union+inter+1e-9)\n",
    "\n",
    "def jaccard_np(y_true, y_pred):\n",
    "    union = np.sum(np.logical_or(y_true, y_pred), axis=(1, 2))\n",
    "    inter = np.sum(np.logical_and(y_true, y_pred), axis=(1, 2))\n",
    "    \n",
    "    return inter/(union+1e-9)"
   ]
  },
  {
   "cell_type": "code",
   "execution_count": null,
   "metadata": {},
   "outputs": [],
   "source": []
  }
 ],
 "metadata": {
  "kernelspec": {
   "display_name": "Python 3",
   "language": "python",
   "name": "python3"
  },
  "language_info": {
   "codemirror_mode": {
    "name": "ipython",
    "version": 3
   },
   "file_extension": ".py",
   "mimetype": "text/x-python",
   "name": "python",
   "nbconvert_exporter": "python",
   "pygments_lexer": "ipython3",
   "version": "3.7.7"
  }
 },
 "nbformat": 4,
 "nbformat_minor": 4
}
