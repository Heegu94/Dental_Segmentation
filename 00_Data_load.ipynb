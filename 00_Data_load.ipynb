{
 "cells": [
  {
   "cell_type": "code",
   "execution_count": 1,
   "metadata": {},
   "outputs": [],
   "source": [
    "import os"
   ]
  },
  {
   "cell_type": "code",
   "execution_count": 2,
   "metadata": {},
   "outputs": [],
   "source": [
    "MCS_root = '/data1/Dental/MCS-CT 영상 데이터-19년7월15일-김정웅/MCS모음-19-7월-1/완료한것/'\n",
    "CBCT_root = '/data1/Dental/MCS-CT 영상 데이터-19년7월15일-김정웅/CBCT-Mcs-19-7-1/완료/'\n",
    "COM_root = '/data1/Dental/MCS-CT 영상 데이터-19년7월15일-김정웅/COM-MCS-19-7-1/완료된것들/'\n"
   ]
  },
  {
   "cell_type": "markdown",
   "metadata": {},
   "source": [
    "</br>\n",
    "\n",
    "### Load 3d volume"
   ]
  },
  {
   "cell_type": "code",
   "execution_count": 3,
   "metadata": {},
   "outputs": [],
   "source": [
    "import cv2\n",
    "import numpy as np\n",
    "import matplotlib.pyplot as plt"
   ]
  },
  {
   "cell_type": "code",
   "execution_count": 4,
   "metadata": {},
   "outputs": [],
   "source": [
    "def load_3d_vol(img_paths, mode = 'gray'):\n",
    "    ''' \n",
    "    --- Input ---\n",
    "    - img_path(list type)\n",
    "    ex) ['/000/000/001.bmp', '/000/000/002.bmp', ... , '/000/000/999.bmp']\n",
    "    '''\n",
    "    color_map = {'gray': cv2.COLOR_BGR2GRAY,\n",
    "                'rgb' : cv2.COLOR_BGR2RGB}\n",
    "    \n",
    "    output = [cv2.cvtColor(cv2.imread(img_path), color_map[mode]) for img_path in img_paths]\n",
    "    \n",
    "    return np.array(output)"
   ]
  },
  {
   "cell_type": "markdown",
   "metadata": {},
   "source": [
    "</br>\n",
    "\n",
    "### Make Mask (separating label)"
   ]
  },
  {
   "cell_type": "code",
   "execution_count": 5,
   "metadata": {},
   "outputs": [],
   "source": [
    "def make_mask(img3d):\n",
    "    ''' \n",
    "    --- Input ---\n",
    "    - img3d : 4d numpy array, [slice, height, width, channel]\n",
    "    '''\n",
    "    \n",
    "    hsv = np.array([cv2.cvtColor(img, cv2.COLOR_RGB2HSV)[...,0] for img in img3d])    \n",
    "    s, h, w = hsv.shape\n",
    "    output = np.ones((s, h, w, 3))\n",
    "    output[...,1:] = 0\n",
    "    \n",
    "    center = np.rot90(hsv[..., 256], 2)\n",
    "    tmp = np.max(center, 1)\n",
    "    \n",
    "    mn_range = [tmp[tmp!=0][-1]-2, tmp[tmp!=0][-1]+2]\n",
    "    s, h, w = np.where(np.logical_and(hsv>=mn_range[0], hsv<=mn_range[1]))\n",
    "    output[s, h, w, 1] = 1 # 1 채널에 1 : mn\n",
    "    output[s, h, w, 0] = 0 # 0 채널에 0\n",
    "    \n",
    "    mx_range = [tmp[tmp!=0][0]-2, tmp[tmp!=0][0]+2]\n",
    "    s, h, w= np.where(np.logical_and(hsv>=mx_range[0], hsv<=mx_range[1]))\n",
    "    output[s, h, w, 2] = 1 # 2 채널에 1 : mx\n",
    "    output[s, h, w, 0] = 0 # 0 채널에 0\n",
    "    \n",
    "    return output"
   ]
  },
  {
   "cell_type": "code",
   "execution_count": 6,
   "metadata": {},
   "outputs": [
    {
     "data": {
      "text/plain": [
       "'/data1/Dental/MCS-CT 영상 데이터-19년7월15일-김정웅/MCS모음-19-7월-1/완료한것/10511071 홍수연'"
      ]
     },
     "execution_count": 6,
     "metadata": {},
     "output_type": "execute_result"
    }
   ],
   "source": [
    "pat_list = os.listdir(MCS_root)\n",
    "pat_paths = [os.path.join(MCS_root, i) for i in pat_list] \n",
    "\n",
    "pat_paths[0]"
   ]
  },
  {
   "cell_type": "markdown",
   "metadata": {},
   "source": [
    "</br>\n",
    "\n",
    "### MCS 확인"
   ]
  },
  {
   "cell_type": "code",
   "execution_count": 7,
   "metadata": {},
   "outputs": [
    {
     "data": {
      "text/plain": [
       "['COM-MCS-19-7-1', 'MCS모음-19-7월-1', 'CBCT-Mcs-19-7-1']"
      ]
     },
     "execution_count": 7,
     "metadata": {},
     "output_type": "execute_result"
    }
   ],
   "source": [
    "os.listdir('/data1/Dental/MCS-CT 영상 데이터-19년7월15일-김정웅/')"
   ]
  },
  {
   "cell_type": "code",
   "execution_count": 21,
   "metadata": {
    "collapsed": true,
    "jupyter": {
     "outputs_hidden": true
    }
   },
   "outputs": [
    {
     "name": "stdout",
     "output_type": "stream",
     "text": [
      "우석준 1 128 (128, 512, 512, 3)\n",
      "강다영 1 119 (119, 512, 512, 3)\n",
      "송민주 1 237 (237, 512, 512, 3)\n",
      "김희윤 1 418 (418, 512, 512, 3)\n",
      "최승훈 1 256 (256, 512, 512, 3)\n",
      "송은하 1 241 (241, 799, 799, 3)\n",
      "박정환 1 256 (256, 512, 512, 3)\n",
      "장희선 1 76 (76, 512, 512, 3)\n",
      "LEE SUN HO - edit 4-13-1-15 293 (293, 512, 512, 3)\n",
      "장성수 1 181 (181, 799, 799, 3)\n",
      "나진호 1 256 (256, 512, 512, 3)\n",
      "강태경 1 256 (256, 512, 512, 3)\n",
      "강남규 1 147 (147, 512, 512, 3)\n",
      "김수연 1 256 (256, 512, 512, 3)\n",
      "KIM JI YEONG 208 (208, 512, 512, 3)\n",
      "현진옥 1 265 (265, 512, 512, 3)\n",
      "박호용 1 256 (256, 512, 512, 3)\n",
      "정지수 1 256 (256, 512, 512, 3)\n",
      "임세영 1 256 (256, 512, 512, 3)\n",
      "SHIN EUN BI-1 195 (195, 512, 512, 3)\n",
      "노혜연 1 187 (187, 512, 512, 3)\n",
      "김홍주 1 256 (256, 512, 512, 3)\n",
      "조수봉 1 288 (288, 768, 768, 3)\n",
      "조예진 1 171 (171, 512, 512, 3)\n",
      "양정환 1 198 (198, 512, 512, 3)\n",
      "심소영 1 237 (237, 512, 512, 3)\n",
      "문준호 1 256 (256, 512, 512, 3)\n",
      "김창민 1 512 (512, 512, 512, 3)\n",
      "심규원 1 256 (256, 512, 512, 3)\n",
      "CHUNG_KYOO_SEON 113 (113, 512, 512, 3)\n",
      "김기만 1 243 (243, 512, 512, 3)\n",
      "문강민 1 256 (256, 512, 512, 3)\n",
      "김영현 1 199 (199, 512, 512, 3)\n",
      "안윤화 1 180 (180, 512, 512, 3)\n",
      "박재성 1 265 (265, 512, 512, 3)\n",
      "손경환 1 256 (256, 512, 512, 3)\n",
      "박준혁 1 256 (256, 512, 512, 3)\n",
      "김주영 1 171 (171, 512, 512, 3)\n",
      "임희섭 1 244 (244, 512, 512, 3)\n",
      "KIM SUN OO-강 273 (273, 512, 512, 3)\n",
      "김찬웅 1 256 (256, 512, 512, 3)\n",
      "손민수 1 256 (256, 512, 512, 3)\n",
      "강민석 2 174 (174, 512, 512, 3)\n",
      "강민석 1 256 (256, 512, 512, 3)\n",
      "김민영 1 228 (228, 512, 512, 3)\n",
      "정연진 1 256 (256, 512, 512, 3)\n",
      "유미영 1 175 (175, 512, 512, 3)\n",
      "한연주 1 179 (179, 512, 512, 3)\n",
      "윤성빈 1 256 (256, 512, 512, 3)\n",
      "염진엽 1 256 (256, 512, 512, 3)\n",
      "김예지 1 175 (175, 512, 512, 3)\n",
      "이현지 1 256 (256, 512, 512, 3)\n",
      "이준혁 1 236 (236, 512, 512, 3)\n",
      "권익범 1 210 (210, 512, 512, 3)\n",
      "이제니 1 256 (256, 512, 512, 3)\n",
      "박우철 1 256 (256, 512, 512, 3)\n",
      "김재훈 1 262 (262, 512, 512, 3)\n",
      "김세현 1 256 (256, 512, 512, 3)\n",
      "이진희 1 67 (67, 512, 512, 3)\n",
      "박서훈 1 256 (256, 512, 512, 3)\n",
      "최도연 1 204 (204, 512, 512, 3)\n",
      "안준형 1 149 (149, 485, 485, 3)\n",
      "심윤희 1 105 (105, 512, 512, 3)\n",
      "이혜린 1 256 (256, 512, 512, 3)\n",
      "정준모 1 59 (59, 512, 512, 3)\n",
      "장현아 1 179 (179, 512, 512, 3)\n",
      "류혜선 1 256 (256, 512, 512, 3)\n",
      "ALALAWI,SAEED 222 (222, 512, 512, 3)\n",
      "아이다나 1 186 (186, 512, 512, 3)\n",
      "조민지 1 512 (512, 486, 512, 3)\n",
      "SHIN SEUL KI 1 215 (215, 512, 512, 3)\n",
      "신희선 1 512 (512, 391, 512, 3)\n",
      "이보빈 1 344 (344, 512, 512, 3)\n",
      "신재혁 1 256 (256, 512, 512, 3)\n",
      "이병조 1 320 (320, 512, 512, 3)\n",
      "차지연 1 256 (256, 512, 512, 3)\n",
      "김은선 1 176 (176, 512, 512, 3)\n",
      "송효지 1 256 (256, 512, 512, 3)\n",
      "백승관 1 256 (256, 512, 512, 3)\n",
      "이선경 1 192 (192, 768, 768, 3)\n",
      "권희선 1 78 (78, 512, 512, 3)\n",
      "국기현 1 256 (256, 512, 512, 3)\n",
      "유재훈 1 188 (188, 512, 512, 3)\n",
      "박지숙 1 355 (355, 512, 512, 3)\n",
      "박지영 1 256 (256, 512, 512, 3)\n",
      "김휘중 1 256 (256, 512, 512, 3)\n",
      "김민수 1 256 (256, 512, 512, 3)\n",
      "최영철 1 171 (171, 512, 512, 3)\n",
      "황남기 1 256 (256, 512, 512, 3)\n",
      "성무중 1 256 (256, 512, 512, 3)\n",
      "밴차야 1 55 (55, 512, 512, 3)\n",
      "신채영 1 256 (256, 512, 512, 3)\n",
      "LEE SEUL-edit 2 265 (265, 512, 512, 3)\n",
      "서준수 1 256 (256, 512, 512, 3)\n",
      "김민경 1 212 (212, 512, 512, 3)\n",
      "이수빈 1 256 (256, 512, 512, 3)\n",
      "비이빈 1 256 (256, 512, 512, 3)\n",
      "이지현 1 246 (246, 512, 512, 3)\n",
      "박수연 1 256 (256, 512, 512, 3)\n",
      "조민건 1 256 (256, 512, 512, 3)\n",
      "서재훈 1 235 (235, 512, 512, 3)\n",
      "서연수 1 242 (242, 799, 799, 3)\n",
      "양영웅 1 123 (123, 512, 512, 3)\n"
     ]
    }
   ],
   "source": [
    "import csv \n",
    "\n",
    "data_dict = ['Patient', 'Num Slice', 'Image Size']\n",
    "data_csv =  open(os.path.join('./data_preview/COM-MCS-19-7-1.csv'), 'w', newline='', encoding='utf-8')\n",
    "csv_writer = csv.writer(data_csv) \n",
    "\n",
    "pat_list = os.listdir(COM_root) # 환자 이름들.\n",
    "\n",
    "for pat in pat_list :\n",
    "    \n",
    "    pat_paths = os.path.join(COM_root, pat)\n",
    "    \n",
    "    mxmn_paths = os.path.join(pat_paths, 'Mx Mn')\n",
    "    mxmn_list = os.listdir(mxmn_paths)\n",
    "    mxmn_img_paths = [os.path.join(mxmn_paths, i) for i in mxmn_list]\n",
    "    \n",
    "    if len(mxmn_list):\n",
    "        mx_mn = load_3d_vol(mxmn_img_paths, 'rgb')\n",
    "#         mask = make_mask(mx_mn)  \n",
    "         \n",
    "    print(pat, len(mxmn_list), mx_mn.shape)\n",
    "    csv_writer.writerow([pat, len(mxmn_list), mx_mn.shape ])\n",
    "\n",
    "data_csv.close()"
   ]
  },
  {
   "cell_type": "markdown",
   "metadata": {},
   "source": [
    "</br>\n",
    "\n",
    "## 전체파일 "
   ]
  },
  {
   "cell_type": "code",
   "execution_count": 10,
   "metadata": {},
   "outputs": [
    {
     "name": "stdout",
     "output_type": "stream",
     "text": [
      "/var/Mx Mn\n"
     ]
    },
    {
     "ename": "FileNotFoundError",
     "evalue": "[Errno 2] No such file or directory: '/var/original'",
     "output_type": "error",
     "traceback": [
      "\u001b[0;31m---------------------------------------------------------------------------\u001b[0m",
      "\u001b[0;31mFileNotFoundError\u001b[0m                         Traceback (most recent call last)",
      "\u001b[0;32m<ipython-input-10-b0f28381709c>\u001b[0m in \u001b[0;36m<module>\u001b[0;34m\u001b[0m\n\u001b[1;32m     28\u001b[0m         \u001b[0mmxmn_paths\u001b[0m \u001b[0;34m=\u001b[0m \u001b[0mos\u001b[0m\u001b[0;34m.\u001b[0m\u001b[0mpath\u001b[0m\u001b[0;34m.\u001b[0m\u001b[0mjoin\u001b[0m\u001b[0;34m(\u001b[0m\u001b[0mpat_paths\u001b[0m\u001b[0;34m,\u001b[0m \u001b[0;34m'Mx Mn'\u001b[0m\u001b[0;34m)\u001b[0m\u001b[0;34m\u001b[0m\u001b[0;34m\u001b[0m\u001b[0m\n\u001b[1;32m     29\u001b[0m         \u001b[0mprint\u001b[0m\u001b[0;34m(\u001b[0m\u001b[0mmxmn_paths\u001b[0m\u001b[0;34m)\u001b[0m\u001b[0;34m\u001b[0m\u001b[0;34m\u001b[0m\u001b[0m\n\u001b[0;32m---> 30\u001b[0;31m         \u001b[0mori_list\u001b[0m \u001b[0;34m=\u001b[0m \u001b[0;34m[\u001b[0m\u001b[0mos\u001b[0m\u001b[0;34m.\u001b[0m\u001b[0mpath\u001b[0m\u001b[0;34m.\u001b[0m\u001b[0mjoin\u001b[0m\u001b[0;34m(\u001b[0m\u001b[0mori_paths\u001b[0m\u001b[0;34m,\u001b[0m \u001b[0mi\u001b[0m\u001b[0;34m)\u001b[0m \u001b[0;32mfor\u001b[0m \u001b[0mi\u001b[0m \u001b[0;32min\u001b[0m \u001b[0msorted\u001b[0m\u001b[0;34m(\u001b[0m\u001b[0mos\u001b[0m\u001b[0;34m.\u001b[0m\u001b[0mlistdir\u001b[0m\u001b[0;34m(\u001b[0m\u001b[0mori_paths\u001b[0m\u001b[0;34m)\u001b[0m\u001b[0;34m)\u001b[0m\u001b[0;34m]\u001b[0m\u001b[0;34m\u001b[0m\u001b[0;34m\u001b[0m\u001b[0m\n\u001b[0m\u001b[1;32m     31\u001b[0m         \u001b[0mmxmn_list\u001b[0m \u001b[0;34m=\u001b[0m \u001b[0;34m[\u001b[0m\u001b[0mos\u001b[0m\u001b[0;34m.\u001b[0m\u001b[0mpath\u001b[0m\u001b[0;34m.\u001b[0m\u001b[0mjoin\u001b[0m\u001b[0;34m(\u001b[0m\u001b[0mmxmn_paths\u001b[0m\u001b[0;34m,\u001b[0m \u001b[0mi\u001b[0m\u001b[0;34m)\u001b[0m \u001b[0;32mfor\u001b[0m \u001b[0mi\u001b[0m \u001b[0;32min\u001b[0m \u001b[0msorted\u001b[0m\u001b[0;34m(\u001b[0m\u001b[0mos\u001b[0m\u001b[0;34m.\u001b[0m\u001b[0mlistdir\u001b[0m\u001b[0;34m(\u001b[0m\u001b[0mmxmn_paths\u001b[0m\u001b[0;34m)\u001b[0m\u001b[0;34m)\u001b[0m\u001b[0;34m]\u001b[0m\u001b[0;34m\u001b[0m\u001b[0;34m\u001b[0m\u001b[0m\n\u001b[1;32m     32\u001b[0m \u001b[0;34m\u001b[0m\u001b[0m\n",
      "\u001b[0;31mFileNotFoundError\u001b[0m: [Errno 2] No such file or directory: '/var/original'"
     ]
    }
   ],
   "source": [
    "import csv\n",
    "import os\n",
    "import numpy as np\n",
    "from utils import *\n",
    "\n",
    "data_dict = ['file type', 'patient name', 'original slice', 'mxmn slice', 'mxmn shape', 'mxmn type']\n",
    "data_csv = open(os.path.join('./data_preview/total.csv'), 'w', newline='', encoding='utf-8')\n",
    "csv_writer = csv.writer(data_csv)\n",
    "csv_writer.writerow(data_dict)\n",
    "\n",
    "root = '/data1/Dental/MCS-CT 영상 데이터-19년7월15일-김정웅/'\n",
    "root_dict = ['CBCT-Mcs-19-7-1/완료/','COM-MCS-19-7-1/완료된것들/', 'MCS모음-19-7월-1/완료한것/']\n",
    "\n",
    "root_paths = [os.path.join(root, i) for i in root_dict]\n",
    "\n",
    "num = 0\n",
    "\n",
    "for root_path in root_paths:\n",
    "    pat_list = os.listdir(root_path)\n",
    "    \n",
    "    num += 1\n",
    "    \n",
    "    for pat in pat_list:\n",
    "        pat_paths = os.path.join(root_path, pat)\n",
    "        \n",
    "        ori_paths = os.path.join(pat_paths, 'original')\n",
    "        mxmn_paths = os.path.join(pat_paths, 'Mx Mn') \n",
    "        print(mxmn_paths)\n",
    "        ori_list = [os.path.join(ori_paths, i) for i in sorted(os.listdir(ori_paths))]\n",
    "        mxmn_list = [os.path.join(mxmn_paths, i) for i in sorted(os.listdir(mxmn_paths))]\n",
    "        \n",
    "        if num == 1 : f_type = 'CBCT-MCS'\n",
    "        if num == 2 : f_type = 'COM-MCS'\n",
    "        if num == 3 : f_type = 'MCS 모음'\n",
    "        \n",
    "        if len(mxmn_list):\n",
    "            mm_ = load_3d_vol(mxmn_list, 'rgb')\n",
    "#             mask = make_mask(mm_)\n",
    "            csv_writer.writerow([f_type, pat, len(ori_list), len(mxmn_list), mm_.shape, mm_.dtype])\n",
    "        \n",
    "data_csv.close()"
   ]
  },
  {
   "cell_type": "code",
   "execution_count": 87,
   "metadata": {},
   "outputs": [
    {
     "data": {
      "text/plain": [
       "<matplotlib.image.AxesImage at 0x7f339c19c210>"
      ]
     },
     "execution_count": 87,
     "metadata": {},
     "output_type": "execute_result"
    },
    {
     "data": {
      "image/png": "[encoded data removed]",
      "text/plain": [
       "<Figure size 864x648 with 4 Axes>"
      ]
     },
     "metadata": {
      "needs_background": "light"
     },
     "output_type": "display_data"
    }
   ],
   "source": [
    "import matplotlib.pyplot as plt\n",
    "\n",
    "idx = 100\n",
    "\n",
    "plt.figure(figsize=(12,9))\n",
    "plt.subplot(221)\n",
    "plt.imshow(mm_[idx], cmap='gray')\n",
    "\n",
    "plt.subplot(222)\n",
    "plt.imshow(mask[idx][..., 0], cmap='gray')\n",
    "\n",
    "plt.subplot(223)\n",
    "plt.imshow(mask[idx][..., 1], cmap='gray')\n",
    "\n",
    "plt.subplot(224)\n",
    "plt.imshow(mask[idx][..., 2], cmap='gray')"
   ]
  },
  {
   "cell_type": "code",
   "execution_count": null,
   "metadata": {},
   "outputs": [],
   "source": []
  }
 ],
 "metadata": {
  "kernelspec": {
   "display_name": "Python 3",
   "language": "python",
   "name": "python3"
  },
  "language_info": {
   "codemirror_mode": {
    "name": "ipython",
    "version": 3
   },
   "file_extension": ".py",
   "mimetype": "text/x-python",
   "name": "python",
   "nbconvert_exporter": "python",
   "pygments_lexer": "ipython3",
   "version": "3.7.6"
  }
 },
 "nbformat": 4,
 "nbformat_minor": 4
}
