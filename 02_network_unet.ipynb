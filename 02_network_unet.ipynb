{
 "cells": [
  {
   "cell_type": "code",
   "execution_count": 20,
   "metadata": {},
   "outputs": [],
   "source": [
    "from tensorflow.keras.layers import *\n",
    "from tensorflow.keras.models import *\n",
    "\n",
    "def unet(n_class, use_bias=True, mode='2d'):\n",
    "    \n",
    "    _input = {\n",
    "        '2d':(None, None, 1),\n",
    "        '3d':(None, None, None, 1)\n",
    "    }\n",
    "    conv = {\n",
    "        '2d': Conv2D,\n",
    "        '3d': Conv3D\n",
    "    }\n",
    "    \n",
    "    upconv = {\n",
    "        '2d': Conv2DTranspose,\n",
    "        '3d': Conv3DTranspose\n",
    "    }\n",
    "    pool = {\n",
    "        '2d': MaxPool2D,\n",
    "        '3d': MaxPool3D\n",
    "    }\n",
    "    \n",
    "    _input = Input(shape=_input[mode])\n",
    "    en1 = conv[mode](64, 3, strides=1, padding='same', activation='relu', use_bias=use_bias)(_input)\n",
    "    en1 = conv[mode](64, 3, strides=1, padding='same', activation='relu', use_bias=use_bias)(en1)\n",
    "    \n",
    "    en2 = pool[mode]()(en1)\n",
    "    en2 = conv[mode](128, 3, strides=1, padding='same', activation='relu', use_bias=use_bias)(en2)\n",
    "    en2 = conv[mode](128, 3, strides=1, padding='same', activation='relu', use_bias=use_bias)(en2)\n",
    "    \n",
    "    en3 = pool[mode]()(en2)\n",
    "    en3 = conv[mode](256, 3, strides=1, padding='same', activation='relu', use_bias=use_bias)(en3)\n",
    "    en3 = conv[mode](256, 3, strides=1, padding='same', activation='relu', use_bias=use_bias)(en3)\n",
    "    \n",
    "    en4 = pool[mode]()(en3)\n",
    "    en4 = conv[mode](512, 3, strides=1, padding='same', activation='relu', use_bias=use_bias)(en4)\n",
    "    en4 = conv[mode](512, 3, strides=1, padding='same', activation='relu', use_bias=use_bias)(en4)\n",
    "    \n",
    "    en5 = pool[mode]()(en4)\n",
    "    en5 = conv[mode](1024, 3, strides=1, padding='same', activation='relu', use_bias=use_bias)(en5)\n",
    "    en5 = conv[mode](1024, 3, strides=1, padding='same', activation='relu', use_bias=use_bias)(en5)\n",
    "    \n",
    "    de4 = upconv[mode](512, 2, strides=2, padding='same', activation='relu', use_bias=use_bias)(en5)\n",
    "    de4 = Concatenate(axis=-1)([en4, de4])\n",
    "    de4 = conv[mode](512, 3, strides=1, padding='same', activation='relu', use_bias=use_bias)(de4)\n",
    "    de4 = conv[mode](512, 3, strides=1, padding='same', activation='relu', use_bias=use_bias)(de4)\n",
    "    \n",
    "    de3 = upconv[mode](256, 2, strides=2, padding='same', activation='relu', use_bias=use_bias)(de4)\n",
    "    de3 = Concatenate(axis=-1)([en3, de3])\n",
    "    de3 = conv[mode](256, 3, strides=1, padding='same', activation='relu', use_bias=use_bias)(de3)\n",
    "    de3 = conv[mode](256, 3, strides=1, padding='same', activation='relu', use_bias=use_bias)(de3)\n",
    "    \n",
    "    de2 = upconv[mode](128, 2, strides=2, padding='same', activation='relu', use_bias=use_bias)(de3)\n",
    "    de2 = Concatenate(axis=-1)([en2, de2])\n",
    "    de2 = conv[mode](128, 3, strides=1, padding='same', activation='relu', use_bias=use_bias)(de2)\n",
    "    de2 = conv[mode](128, 3, strides=1, padding='same', activation='relu', use_bias=use_bias)(de2)\n",
    "    \n",
    "    de1 = upconv[mode](64, 2, strides=2, padding='same', activation='relu', use_bias=use_bias)(de2)\n",
    "    de1 = Concatenate(axis=-1)([en1, de1])\n",
    "    de1 = conv[mode](64, 3, strides=1, padding='same', activation='relu', use_bias=use_bias)(de1)\n",
    "    de1 = conv[mode](64, 3, strides=1, padding='same', activation='relu', use_bias=use_bias)(de1)\n",
    "    \n",
    "    pred = conv[mode](n_class, 1, strides=1, padding='same', activation='softmax', use_bias=use_bias)(de1)\n",
    "    return Model(inputs = _input, outputs=pred)"
   ]
  },
  {
   "cell_type": "code",
   "execution_count": 21,
   "metadata": {},
   "outputs": [],
   "source": [
    "a = unet(n_class=3, mode='2d')"
   ]
  },
  {
   "cell_type": "code",
   "execution_count": null,
   "metadata": {},
   "outputs": [],
   "source": []
  }
 ],
 "metadata": {
  "kernelspec": {
   "display_name": "Python 3",
   "language": "python",
   "name": "python3"
  },
  "language_info": {
   "codemirror_mode": {
    "name": "ipython",
    "version": 3
   },
   "file_extension": ".py",
   "mimetype": "text/x-python",
   "name": "python",
   "nbconvert_exporter": "python",
   "pygments_lexer": "ipython3",
   "version": "3.7.6"
  }
 },
 "nbformat": 4,
 "nbformat_minor": 4
}
